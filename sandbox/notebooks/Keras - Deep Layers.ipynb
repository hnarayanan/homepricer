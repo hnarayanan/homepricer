{
 "cells": [
  {
   "cell_type": "code",
   "execution_count": 1,
   "metadata": {},
   "outputs": [
    {
     "name": "stderr",
     "output_type": "stream",
     "text": [
      "Using TensorFlow backend.\n"
     ]
    }
   ],
   "source": [
    "import numpy as np\n",
    "\n",
    "import pandas as pd\n",
    "\n",
    "from sklearn.preprocessing import MinMaxScaler\n",
    "from sklearn.model_selection import train_test_split\n",
    "\n",
    "from keras.models import Sequential\n",
    "from keras.layers import Dense, Activation\n",
    "from keras.callbacks import TensorBoard"
   ]
  },
  {
   "cell_type": "code",
   "execution_count": 2,
   "metadata": {
    "collapsed": true
   },
   "outputs": [],
   "source": [
    "raw_input = pd.read_csv('../../data/data-unnormalised.csv')\n",
    "raw_input.dropna(inplace=True)"
   ]
  },
  {
   "cell_type": "code",
   "execution_count": 3,
   "metadata": {
    "collapsed": true
   },
   "outputs": [],
   "source": [
    "scaler = MinMaxScaler()\n",
    "scaled_input = scaler.fit_transform(raw_input)"
   ]
  },
  {
   "cell_type": "code",
   "execution_count": 4,
   "metadata": {
    "collapsed": true
   },
   "outputs": [],
   "source": [
    "y = scaled_input[:, -1]\n",
    "y = np.expand_dims(y, axis=1)\n",
    "X = np.delete(scaled_input, -1, axis=1)"
   ]
  },
  {
   "cell_type": "code",
   "execution_count": 5,
   "metadata": {
    "collapsed": true
   },
   "outputs": [],
   "source": [
    "model = Sequential()\n",
    "model.add(Dense(units=48, input_dim=12, kernel_initializer='glorot_normal', activation='relu'))\n",
    "model.add(Dense(units=96, kernel_initializer='glorot_normal', activation='relu'))\n",
    "model.add(Dense(units=192, kernel_initializer='glorot_normal', activation='relu'))\n",
    "model.add(Dense(units=384, kernel_initializer='glorot_normal', activation='relu'))\n",
    "model.add(Dense(units=192, kernel_initializer='glorot_normal', activation='relu'))\n",
    "model.add(Dense(units=96, kernel_initializer='glorot_normal', activation='relu'))\n",
    "model.add(Dense(units=48, kernel_initializer='glorot_normal', activation='relu'))\n",
    "model.add(Dense(units=12, kernel_initializer='glorot_normal', activation='relu'))\n",
    "model.add(Dense(1, kernel_initializer='glorot_normal'))"
   ]
  },
  {
   "cell_type": "code",
   "execution_count": 6,
   "metadata": {
    "collapsed": true
   },
   "outputs": [],
   "source": [
    "model.compile(loss='mean_squared_error', optimizer='adam', metrics=['mae'])"
   ]
  },
  {
   "cell_type": "code",
   "execution_count": 7,
   "metadata": {
    "collapsed": true
   },
   "outputs": [],
   "source": [
    "X_train, X_test, y_train, y_test = train_test_split(X, y, test_size=0.25)"
   ]
  },
  {
   "cell_type": "code",
   "execution_count": 8,
   "metadata": {
    "collapsed": true
   },
   "outputs": [],
   "source": [
    "log = TensorBoard(log_dir='./logs/10-deep-layer')"
   ]
  },
  {
   "cell_type": "code",
   "execution_count": 9,
   "metadata": {},
   "outputs": [
    {
     "name": "stdout",
     "output_type": "stream",
     "text": [
      "Epoch 1/20\n",
      "16378248/16378248 [==============================] - 378s - loss: 1.9213e-06 - mean_absolute_error: 5.7337e-04   \n",
      "Epoch 2/20\n",
      "16378248/16378248 [==============================] - 547s - loss: 1.8141e-06 - mean_absolute_error: 5.4884e-04   \n",
      "Epoch 3/20\n",
      "16378248/16378248 [==============================] - 381s - loss: 1.7908e-06 - mean_absolute_error: 5.4446e-04   \n",
      "Epoch 4/20\n",
      "16378248/16378248 [==============================] - 364s - loss: 1.7629e-06 - mean_absolute_error: 5.4071e-04   \n",
      "Epoch 5/20\n",
      "16378248/16378248 [==============================] - 369s - loss: 1.7662e-06 - mean_absolute_error: 5.3937e-04   \n",
      "Epoch 6/20\n",
      "16378248/16378248 [==============================] - 369s - loss: 1.7349e-06 - mean_absolute_error: 5.3511e-04   \n",
      "Epoch 7/20\n",
      "16378248/16378248 [==============================] - 363s - loss: 1.7359e-06 - mean_absolute_error: 5.3619e-04   \n",
      "Epoch 8/20\n",
      "16378248/16378248 [==============================] - 377s - loss: 1.7311e-06 - mean_absolute_error: 5.3395e-04   \n",
      "Epoch 9/20\n",
      "16378248/16378248 [==============================] - 368s - loss: 1.7124e-06 - mean_absolute_error: 5.2937e-04   \n",
      "Epoch 10/20\n",
      "16378248/16378248 [==============================] - 395s - loss: 1.7092e-06 - mean_absolute_error: 5.2823e-04   \n",
      "Epoch 11/20\n",
      "16378248/16378248 [==============================] - 370s - loss: 1.7264e-06 - mean_absolute_error: 5.3225e-04   \n",
      "Epoch 12/20\n",
      "16378248/16378248 [==============================] - 377s - loss: 1.7149e-06 - mean_absolute_error: 5.2957e-04   \n",
      "Epoch 13/20\n",
      "16378248/16378248 [==============================] - 376s - loss: 1.7147e-06 - mean_absolute_error: 5.3173e-04   \n",
      "Epoch 14/20\n",
      "16378248/16378248 [==============================] - 370s - loss: 1.7126e-06 - mean_absolute_error: 5.3191e-04   \n",
      "Epoch 15/20\n",
      "16378248/16378248 [==============================] - 366s - loss: 1.7064e-06 - mean_absolute_error: 5.3073e-04   \n",
      "Epoch 16/20\n",
      "16378248/16378248 [==============================] - 383s - loss: 1.6953e-06 - mean_absolute_error: 5.2755e-04   \n",
      "Epoch 17/20\n",
      "16378248/16378248 [==============================] - 396s - loss: 1.6831e-06 - mean_absolute_error: 5.2334e-04   \n",
      "Epoch 18/20\n",
      "16378248/16378248 [==============================] - 374s - loss: 1.6907e-06 - mean_absolute_error: 5.2636e-04   \n",
      "Epoch 19/20\n",
      "16378248/16378248 [==============================] - 374s - loss: 1.6938e-06 - mean_absolute_error: 5.2939e-04   \n",
      "Epoch 20/20\n",
      "16378248/16378248 [==============================] - 371s - loss: 1.6764e-06 - mean_absolute_error: 5.2257e-04   \n"
     ]
    },
    {
     "data": {
      "text/plain": [
       "<keras.callbacks.History at 0x11b3d8590>"
      ]
     },
     "execution_count": 9,
     "metadata": {},
     "output_type": "execute_result"
    }
   ],
   "source": [
    "model.fit(X_train, y_train, epochs=20, batch_size=512, callbacks=[log])"
   ]
  },
  {
   "cell_type": "code",
   "execution_count": 10,
   "metadata": {},
   "outputs": [
    {
     "name": "stdout",
     "output_type": "stream",
     "text": [
      "5458112/5459417 [============================>.] - ETA: 0s"
     ]
    }
   ],
   "source": [
    "loss_and_metrics = model.evaluate(X_test, y_test)"
   ]
  },
  {
   "cell_type": "code",
   "execution_count": 11,
   "metadata": {},
   "outputs": [
    {
     "data": {
      "text/plain": [
       "[1.8504633809924018e-06, 0.00048088086984534678]"
      ]
     },
     "execution_count": 11,
     "metadata": {},
     "output_type": "execute_result"
    }
   ],
   "source": [
    "loss_and_metrics"
   ]
  },
  {
   "cell_type": "code",
   "execution_count": 12,
   "metadata": {},
   "outputs": [
    {
     "data": {
      "text/plain": [
       "195769"
      ]
     },
     "execution_count": 12,
     "metadata": {},
     "output_type": "execute_result"
    }
   ],
   "source": [
    "model.count_params()"
   ]
  },
  {
   "cell_type": "code",
   "execution_count": 13,
   "metadata": {},
   "outputs": [
    {
     "data": {
      "text/plain": [
       "[<tf.Variable 'dense_1/kernel:0' shape=(12, 48) dtype=float32_ref>,\n",
       " <tf.Variable 'dense_1/bias:0' shape=(48,) dtype=float32_ref>,\n",
       " <tf.Variable 'dense_2/kernel:0' shape=(48, 96) dtype=float32_ref>,\n",
       " <tf.Variable 'dense_2/bias:0' shape=(96,) dtype=float32_ref>,\n",
       " <tf.Variable 'dense_3/kernel:0' shape=(96, 192) dtype=float32_ref>,\n",
       " <tf.Variable 'dense_3/bias:0' shape=(192,) dtype=float32_ref>,\n",
       " <tf.Variable 'dense_4/kernel:0' shape=(192, 384) dtype=float32_ref>,\n",
       " <tf.Variable 'dense_4/bias:0' shape=(384,) dtype=float32_ref>,\n",
       " <tf.Variable 'dense_5/kernel:0' shape=(384, 192) dtype=float32_ref>,\n",
       " <tf.Variable 'dense_5/bias:0' shape=(192,) dtype=float32_ref>,\n",
       " <tf.Variable 'dense_6/kernel:0' shape=(192, 96) dtype=float32_ref>,\n",
       " <tf.Variable 'dense_6/bias:0' shape=(96,) dtype=float32_ref>,\n",
       " <tf.Variable 'dense_7/kernel:0' shape=(96, 48) dtype=float32_ref>,\n",
       " <tf.Variable 'dense_7/bias:0' shape=(48,) dtype=float32_ref>,\n",
       " <tf.Variable 'dense_8/kernel:0' shape=(48, 12) dtype=float32_ref>,\n",
       " <tf.Variable 'dense_8/bias:0' shape=(12,) dtype=float32_ref>,\n",
       " <tf.Variable 'dense_9/kernel:0' shape=(12, 1) dtype=float32_ref>,\n",
       " <tf.Variable 'dense_9/bias:0' shape=(1,) dtype=float32_ref>]"
      ]
     },
     "execution_count": 13,
     "metadata": {},
     "output_type": "execute_result"
    }
   ],
   "source": [
    "model.trainable_weights"
   ]
  },
  {
   "cell_type": "code",
   "execution_count": 29,
   "metadata": {},
   "outputs": [
    {
     "data": {
      "text/plain": [
       "array([[ 181516.03125 ],\n",
       "       [  62445.625   ],\n",
       "       [ 115600.1875  ],\n",
       "       [ 138276.140625],\n",
       "       [ 177155.4375  ]], dtype=float32)"
      ]
     },
     "execution_count": 29,
     "metadata": {},
     "output_type": "execute_result"
    }
   ],
   "source": [
    "model.predict(X_test[10009:10014])*1.200000e+08"
   ]
  },
  {
   "cell_type": "code",
   "execution_count": 30,
   "metadata": {},
   "outputs": [
    {
     "data": {
      "text/plain": [
       "array([[ 287499.00239583],\n",
       "       [ 210999.00175833],\n",
       "       [ 119999.00099999],\n",
       "       [ 168499.00140416],\n",
       "       [ 149999.00124999]])"
      ]
     },
     "execution_count": 30,
     "metadata": {},
     "output_type": "execute_result"
    }
   ],
   "source": [
    "y_test[10009:10014]*1.200000e+08"
   ]
  },
  {
   "cell_type": "code",
   "execution_count": null,
   "metadata": {
    "collapsed": true
   },
   "outputs": [],
   "source": []
  }
 ],
 "metadata": {
  "kernelspec": {
   "display_name": "Python 2",
   "language": "python",
   "name": "python2"
  },
  "language_info": {
   "codemirror_mode": {
    "name": "ipython",
    "version": 2
   },
   "file_extension": ".py",
   "mimetype": "text/x-python",
   "name": "python",
   "nbconvert_exporter": "python",
   "pygments_lexer": "ipython2",
   "version": "2.7.13"
  }
 },
 "nbformat": 4,
 "nbformat_minor": 2
}
