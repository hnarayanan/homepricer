{
 "cells": [
  {
   "cell_type": "code",
   "execution_count": 1,
   "metadata": {},
   "outputs": [
    {
     "name": "stderr",
     "output_type": "stream",
     "text": [
      "Using TensorFlow backend.\n"
     ]
    }
   ],
   "source": [
    "import numpy as np\n",
    "\n",
    "import pandas as pd\n",
    "\n",
    "from sklearn.preprocessing import MinMaxScaler\n",
    "from sklearn.model_selection import train_test_split\n",
    "\n",
    "from keras.models import Sequential\n",
    "from keras.layers import Dense, Activation\n",
    "from keras.callbacks import TensorBoard"
   ]
  },
  {
   "cell_type": "code",
   "execution_count": 2,
   "metadata": {
    "collapsed": true
   },
   "outputs": [],
   "source": [
    "raw_input = pd.read_csv('../../data/data-unnormalised.csv')\n",
    "raw_input.dropna(inplace=True)"
   ]
  },
  {
   "cell_type": "code",
   "execution_count": 3,
   "metadata": {
    "collapsed": true
   },
   "outputs": [],
   "source": [
    "scaler = MinMaxScaler()\n",
    "scaled_input = scaler.fit_transform(raw_input)"
   ]
  },
  {
   "cell_type": "code",
   "execution_count": 4,
   "metadata": {
    "collapsed": true
   },
   "outputs": [],
   "source": [
    "y = scaled_input[:, -1]\n",
    "y = np.expand_dims(y, axis=1)\n",
    "X = np.delete(scaled_input, -1, axis=1)"
   ]
  },
  {
   "cell_type": "code",
   "execution_count": 5,
   "metadata": {
    "collapsed": true
   },
   "outputs": [],
   "source": [
    "model = Sequential()\n",
    "model.add(Dense(units=40, input_dim=12, kernel_initializer='normal', activation='relu'))\n",
    "model.add(Dense(units=100, kernel_initializer='normal', activation='relu'))\n",
    "model.add(Dense(units=40, kernel_initializer='normal', activation='relu'))\n",
    "model.add(Dense(1, kernel_initializer='normal'))"
   ]
  },
  {
   "cell_type": "code",
   "execution_count": 6,
   "metadata": {
    "collapsed": true
   },
   "outputs": [],
   "source": [
    "model.compile(loss='mean_squared_error', optimizer='adam', metrics=['mae'])"
   ]
  },
  {
   "cell_type": "code",
   "execution_count": 7,
   "metadata": {
    "collapsed": true
   },
   "outputs": [],
   "source": [
    "X_train, X_test, y_train, y_test = train_test_split(X, y, test_size=0.25)"
   ]
  },
  {
   "cell_type": "code",
   "execution_count": 8,
   "metadata": {
    "collapsed": true
   },
   "outputs": [],
   "source": [
    "log = TensorBoard(log_dir='./logs/04-four-layer')"
   ]
  },
  {
   "cell_type": "code",
   "execution_count": 9,
   "metadata": {},
   "outputs": [
    {
     "name": "stdout",
     "output_type": "stream",
     "text": [
      "Epoch 1/10\n",
      "16378248/16378248 [==============================] - 75s - loss: 1.8711e-06 - mean_absolute_error: 5.6459e-04    \n",
      "Epoch 2/10\n",
      "16378248/16378248 [==============================] - 73s - loss: 1.7775e-06 - mean_absolute_error: 5.4728e-04    \n",
      "Epoch 3/10\n",
      "16378248/16378248 [==============================] - 71s - loss: 1.7397e-06 - mean_absolute_error: 5.4231e-04    \n",
      "Epoch 4/10\n",
      "16378248/16378248 [==============================] - 71s - loss: 1.7125e-06 - mean_absolute_error: 5.3748e-04    \n",
      "Epoch 5/10\n",
      "16378248/16378248 [==============================] - 72s - loss: 1.6972e-06 - mean_absolute_error: 5.3336e-04    \n",
      "Epoch 6/10\n",
      "16378248/16378248 [==============================] - 71s - loss: 1.7084e-06 - mean_absolute_error: 5.3518e-04    \n",
      "Epoch 7/10\n",
      "16378248/16378248 [==============================] - 72s - loss: 1.7010e-06 - mean_absolute_error: 5.3493e-04    \n",
      "Epoch 8/10\n",
      "16378248/16378248 [==============================] - 72s - loss: 1.6890e-06 - mean_absolute_error: 5.3615e-04    \n",
      "Epoch 9/10\n",
      "16378248/16378248 [==============================] - 72s - loss: 1.6669e-06 - mean_absolute_error: 5.3248e-04    \n",
      "Epoch 10/10\n",
      "16378248/16378248 [==============================] - 72s - loss: 1.6758e-06 - mean_absolute_error: 5.3391e-04    \n"
     ]
    },
    {
     "data": {
      "text/plain": [
       "<keras.callbacks.History at 0x116fdc910>"
      ]
     },
     "execution_count": 9,
     "metadata": {},
     "output_type": "execute_result"
    }
   ],
   "source": [
    "model.fit(X_train, y_train, epochs=10, batch_size=512, callbacks=[log])"
   ]
  },
  {
   "cell_type": "code",
   "execution_count": 10,
   "metadata": {},
   "outputs": [
    {
     "name": "stdout",
     "output_type": "stream",
     "text": [
      "5457024/5459417 [============================>.] - ETA: 0s"
     ]
    }
   ],
   "source": [
    "loss_and_metrics = model.evaluate(X_test, y_test)"
   ]
  },
  {
   "cell_type": "code",
   "execution_count": 11,
   "metadata": {},
   "outputs": [
    {
     "data": {
      "text/plain": [
       "[1.823957773325551e-06, 0.00049779521493285687]"
      ]
     },
     "execution_count": 11,
     "metadata": {},
     "output_type": "execute_result"
    }
   ],
   "source": [
    "loss_and_metrics"
   ]
  },
  {
   "cell_type": "code",
   "execution_count": 12,
   "metadata": {},
   "outputs": [
    {
     "data": {
      "text/plain": [
       "8701"
      ]
     },
     "execution_count": 12,
     "metadata": {},
     "output_type": "execute_result"
    }
   ],
   "source": [
    "model.count_params()"
   ]
  },
  {
   "cell_type": "code",
   "execution_count": 13,
   "metadata": {},
   "outputs": [
    {
     "data": {
      "text/plain": [
       "[<tf.Variable 'dense_1/kernel:0' shape=(12, 40) dtype=float32_ref>,\n",
       " <tf.Variable 'dense_1/bias:0' shape=(40,) dtype=float32_ref>,\n",
       " <tf.Variable 'dense_2/kernel:0' shape=(40, 100) dtype=float32_ref>,\n",
       " <tf.Variable 'dense_2/bias:0' shape=(100,) dtype=float32_ref>,\n",
       " <tf.Variable 'dense_3/kernel:0' shape=(100, 40) dtype=float32_ref>,\n",
       " <tf.Variable 'dense_3/bias:0' shape=(40,) dtype=float32_ref>,\n",
       " <tf.Variable 'dense_4/kernel:0' shape=(40, 1) dtype=float32_ref>,\n",
       " <tf.Variable 'dense_4/bias:0' shape=(1,) dtype=float32_ref>]"
      ]
     },
     "execution_count": 13,
     "metadata": {},
     "output_type": "execute_result"
    }
   ],
   "source": [
    "model.trainable_weights"
   ]
  },
  {
   "cell_type": "code",
   "execution_count": null,
   "metadata": {
    "collapsed": true
   },
   "outputs": [],
   "source": []
  }
 ],
 "metadata": {
  "kernelspec": {
   "display_name": "Python 2",
   "language": "python",
   "name": "python2"
  },
  "language_info": {
   "codemirror_mode": {
    "name": "ipython",
    "version": 2
   },
   "file_extension": ".py",
   "mimetype": "text/x-python",
   "name": "python",
   "nbconvert_exporter": "python",
   "pygments_lexer": "ipython2",
   "version": "2.7.13"
  }
 },
 "nbformat": 4,
 "nbformat_minor": 2
}
