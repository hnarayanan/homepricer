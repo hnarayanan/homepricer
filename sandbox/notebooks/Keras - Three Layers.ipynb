{
 "cells": [
  {
   "cell_type": "code",
   "execution_count": 1,
   "metadata": {},
   "outputs": [
    {
     "name": "stderr",
     "output_type": "stream",
     "text": [
      "Using TensorFlow backend.\n"
     ]
    }
   ],
   "source": [
    "import numpy as np\n",
    "\n",
    "import pandas as pd\n",
    "\n",
    "from sklearn.preprocessing import MinMaxScaler\n",
    "from sklearn.model_selection import train_test_split\n",
    "\n",
    "from keras.models import Sequential\n",
    "from keras.layers import Dense, Activation\n",
    "from keras.callbacks import TensorBoard"
   ]
  },
  {
   "cell_type": "code",
   "execution_count": 2,
   "metadata": {
    "collapsed": true
   },
   "outputs": [],
   "source": [
    "raw_input = pd.read_csv('../../data/data-unnormalised.csv')\n",
    "raw_input.dropna(inplace=True)"
   ]
  },
  {
   "cell_type": "code",
   "execution_count": 3,
   "metadata": {
    "collapsed": true
   },
   "outputs": [],
   "source": [
    "scaler = MinMaxScaler()\n",
    "scaled_input = scaler.fit_transform(raw_input)"
   ]
  },
  {
   "cell_type": "code",
   "execution_count": 4,
   "metadata": {
    "collapsed": true
   },
   "outputs": [],
   "source": [
    "y = scaled_input[:, -1]\n",
    "y = np.expand_dims(y, axis=1)\n",
    "X = np.delete(scaled_input, -1, axis=1)"
   ]
  },
  {
   "cell_type": "code",
   "execution_count": 5,
   "metadata": {
    "collapsed": true
   },
   "outputs": [],
   "source": [
    "model = Sequential()\n",
    "model.add(Dense(units=500, input_dim=12, kernel_initializer='normal', activation='relu'))\n",
    "model.add(Dense(units=50, kernel_initializer='normal', activation='relu'))\n",
    "model.add(Dense(1, kernel_initializer='normal'))"
   ]
  },
  {
   "cell_type": "code",
   "execution_count": 6,
   "metadata": {
    "collapsed": true
   },
   "outputs": [],
   "source": [
    "model.compile(loss='mean_squared_error', optimizer='adam', metrics=['mae'])"
   ]
  },
  {
   "cell_type": "code",
   "execution_count": 7,
   "metadata": {
    "collapsed": true
   },
   "outputs": [],
   "source": [
    "X_train, X_test, y_train, y_test = train_test_split(X, y, test_size=0.25)"
   ]
  },
  {
   "cell_type": "code",
   "execution_count": 8,
   "metadata": {
    "collapsed": true
   },
   "outputs": [],
   "source": [
    "log = TensorBoard(log_dir='./logs/03-three-layer')"
   ]
  },
  {
   "cell_type": "code",
   "execution_count": 9,
   "metadata": {},
   "outputs": [
    {
     "name": "stdout",
     "output_type": "stream",
     "text": [
      "Epoch 1/10\n",
      "16378248/16378248 [==============================] - 104s - loss: 2.0458e-06 - mean_absolute_error: 5.8878e-04   \n",
      "Epoch 2/10\n",
      "16378248/16378248 [==============================] - 103s - loss: 1.9142e-06 - mean_absolute_error: 5.5928e-04   \n",
      "Epoch 3/10\n",
      "16378248/16378248 [==============================] - 103s - loss: 1.8692e-06 - mean_absolute_error: 5.5335e-04   \n",
      "Epoch 4/10\n",
      "16378248/16378248 [==============================] - 105s - loss: 1.8380e-06 - mean_absolute_error: 5.4919e-04   \n",
      "Epoch 5/10\n",
      "16378248/16378248 [==============================] - 104s - loss: 1.8150e-06 - mean_absolute_error: 5.4589e-04   \n",
      "Epoch 6/10\n",
      "16378248/16378248 [==============================] - 100s - loss: 1.8027e-06 - mean_absolute_error: 5.4496e-04   \n",
      "Epoch 7/10\n",
      "16378248/16378248 [==============================] - 100s - loss: 1.7875e-06 - mean_absolute_error: 5.4405e-04   \n",
      "Epoch 8/10\n",
      "16378248/16378248 [==============================] - 100s - loss: 1.7752e-06 - mean_absolute_error: 5.4389e-04   \n",
      "Epoch 9/10\n",
      "16378248/16378248 [==============================] - 100s - loss: 1.7812e-06 - mean_absolute_error: 5.4484e-04   \n",
      "Epoch 10/10\n",
      "16378248/16378248 [==============================] - 100s - loss: 1.7580e-06 - mean_absolute_error: 5.4355e-04   \n"
     ]
    },
    {
     "data": {
      "text/plain": [
       "<keras.callbacks.History at 0x1158aafd0>"
      ]
     },
     "execution_count": 9,
     "metadata": {},
     "output_type": "execute_result"
    }
   ],
   "source": [
    "model.fit(X_train, y_train, epochs=10, batch_size=512, callbacks=[log])"
   ]
  },
  {
   "cell_type": "code",
   "execution_count": 10,
   "metadata": {},
   "outputs": [
    {
     "name": "stdout",
     "output_type": "stream",
     "text": [
      "5456704/5459417 [============================>.] - ETA: 0s"
     ]
    }
   ],
   "source": [
    "loss_and_metrics = model.evaluate(X_test, y_test)"
   ]
  },
  {
   "cell_type": "code",
   "execution_count": 11,
   "metadata": {},
   "outputs": [
    {
     "data": {
      "text/plain": [
       "[1.6269163622851933e-06, 0.00050203883817063056]"
      ]
     },
     "execution_count": 11,
     "metadata": {},
     "output_type": "execute_result"
    }
   ],
   "source": [
    "loss_and_metrics"
   ]
  },
  {
   "cell_type": "code",
   "execution_count": 12,
   "metadata": {},
   "outputs": [
    {
     "data": {
      "text/plain": [
       "31601"
      ]
     },
     "execution_count": 12,
     "metadata": {},
     "output_type": "execute_result"
    }
   ],
   "source": [
    "model.count_params()"
   ]
  },
  {
   "cell_type": "code",
   "execution_count": 13,
   "metadata": {},
   "outputs": [
    {
     "data": {
      "text/plain": [
       "[<tf.Variable 'dense_1/kernel:0' shape=(12, 500) dtype=float32_ref>,\n",
       " <tf.Variable 'dense_1/bias:0' shape=(500,) dtype=float32_ref>,\n",
       " <tf.Variable 'dense_2/kernel:0' shape=(500, 50) dtype=float32_ref>,\n",
       " <tf.Variable 'dense_2/bias:0' shape=(50,) dtype=float32_ref>,\n",
       " <tf.Variable 'dense_3/kernel:0' shape=(50, 1) dtype=float32_ref>,\n",
       " <tf.Variable 'dense_3/bias:0' shape=(1,) dtype=float32_ref>]"
      ]
     },
     "execution_count": 13,
     "metadata": {},
     "output_type": "execute_result"
    }
   ],
   "source": [
    "model.trainable_weights"
   ]
  },
  {
   "cell_type": "code",
   "execution_count": null,
   "metadata": {
    "collapsed": true
   },
   "outputs": [],
   "source": []
  }
 ],
 "metadata": {
  "kernelspec": {
   "display_name": "Python 2",
   "language": "python",
   "name": "python2"
  },
  "language_info": {
   "codemirror_mode": {
    "name": "ipython",
    "version": 2
   },
   "file_extension": ".py",
   "mimetype": "text/x-python",
   "name": "python",
   "nbconvert_exporter": "python",
   "pygments_lexer": "ipython2",
   "version": "2.7.13"
  }
 },
 "nbformat": 4,
 "nbformat_minor": 2
}
