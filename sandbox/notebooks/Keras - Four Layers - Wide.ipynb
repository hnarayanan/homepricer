{
 "cells": [
  {
   "cell_type": "code",
   "execution_count": 1,
   "metadata": {},
   "outputs": [
    {
     "name": "stderr",
     "output_type": "stream",
     "text": [
      "Using TensorFlow backend.\n"
     ]
    }
   ],
   "source": [
    "import numpy as np\n",
    "\n",
    "import pandas as pd\n",
    "\n",
    "from sklearn.preprocessing import MinMaxScaler\n",
    "from sklearn.model_selection import train_test_split\n",
    "\n",
    "from keras.models import Sequential\n",
    "from keras.layers import Dense, Activation\n",
    "from keras.callbacks import TensorBoard"
   ]
  },
  {
   "cell_type": "code",
   "execution_count": 2,
   "metadata": {
    "collapsed": true
   },
   "outputs": [],
   "source": [
    "raw_input = pd.read_csv('../../data/data-unnormalised.csv')\n",
    "raw_input.dropna(inplace=True)"
   ]
  },
  {
   "cell_type": "code",
   "execution_count": 3,
   "metadata": {
    "collapsed": true
   },
   "outputs": [],
   "source": [
    "scaler = MinMaxScaler()\n",
    "scaled_input = scaler.fit_transform(raw_input)"
   ]
  },
  {
   "cell_type": "code",
   "execution_count": 4,
   "metadata": {
    "collapsed": true
   },
   "outputs": [],
   "source": [
    "y = scaled_input[:, -1]\n",
    "y = np.expand_dims(y, axis=1)\n",
    "X = np.delete(scaled_input, -1, axis=1)"
   ]
  },
  {
   "cell_type": "code",
   "execution_count": 5,
   "metadata": {
    "collapsed": true
   },
   "outputs": [],
   "source": [
    "model = Sequential()\n",
    "model.add(Dense(units=80, input_dim=12, kernel_initializer='normal', activation='relu'))\n",
    "model.add(Dense(units=200, kernel_initializer='normal', activation='relu'))\n",
    "model.add(Dense(units=80, kernel_initializer='normal', activation='relu'))\n",
    "model.add(Dense(1, kernel_initializer='normal'))"
   ]
  },
  {
   "cell_type": "code",
   "execution_count": 6,
   "metadata": {
    "collapsed": true
   },
   "outputs": [],
   "source": [
    "model.compile(loss='mean_squared_error', optimizer='adam', metrics=['mae'])"
   ]
  },
  {
   "cell_type": "code",
   "execution_count": 7,
   "metadata": {
    "collapsed": true
   },
   "outputs": [],
   "source": [
    "X_train, X_test, y_train, y_test = train_test_split(X, y, test_size=0.25)"
   ]
  },
  {
   "cell_type": "code",
   "execution_count": 8,
   "metadata": {
    "collapsed": true
   },
   "outputs": [],
   "source": [
    "log = TensorBoard(log_dir='./logs/06-four-layer-wide')"
   ]
  },
  {
   "cell_type": "code",
   "execution_count": 9,
   "metadata": {},
   "outputs": [
    {
     "name": "stdout",
     "output_type": "stream",
     "text": [
      "Epoch 1/10\n",
      "16378248/16378248 [==============================] - 114s - loss: 1.9235e-06 - mean_absolute_error: 5.6325e-04   \n",
      "Epoch 2/10\n",
      "16378248/16378248 [==============================] - 107s - loss: 1.8382e-06 - mean_absolute_error: 5.4958e-04   \n",
      "Epoch 3/10\n",
      "16378248/16378248 [==============================] - 104s - loss: 1.8091e-06 - mean_absolute_error: 5.4901e-04   \n",
      "Epoch 4/10\n",
      "16378248/16378248 [==============================] - 107s - loss: 1.7786e-06 - mean_absolute_error: 5.4434e-04   \n",
      "Epoch 5/10\n",
      "16378248/16378248 [==============================] - 113s - loss: 1.7472e-06 - mean_absolute_error: 5.3842e-04   \n",
      "Epoch 6/10\n",
      "16378248/16378248 [==============================] - 110s - loss: 1.7551e-06 - mean_absolute_error: 5.3765e-04   \n",
      "Epoch 7/10\n",
      "16378248/16378248 [==============================] - 113s - loss: 1.7507e-06 - mean_absolute_error: 5.3633e-04   \n",
      "Epoch 8/10\n",
      "16378248/16378248 [==============================] - 109s - loss: 1.7169e-06 - mean_absolute_error: 5.3080e-04   \n",
      "Epoch 9/10\n",
      "16378248/16378248 [==============================] - 108s - loss: 1.7198e-06 - mean_absolute_error: 5.3170e-04   \n",
      "Epoch 10/10\n",
      "16378248/16378248 [==============================] - 105s - loss: 1.6967e-06 - mean_absolute_error: 5.3036e-04   \n"
     ]
    },
    {
     "data": {
      "text/plain": [
       "<keras.callbacks.History at 0x117551910>"
      ]
     },
     "execution_count": 9,
     "metadata": {},
     "output_type": "execute_result"
    }
   ],
   "source": [
    "model.fit(X_train, y_train, epochs=10, batch_size=512, callbacks=[log])"
   ]
  },
  {
   "cell_type": "code",
   "execution_count": 10,
   "metadata": {},
   "outputs": [
    {
     "name": "stdout",
     "output_type": "stream",
     "text": [
      "5459264/5459417 [============================>.] - ETA: 0s"
     ]
    }
   ],
   "source": [
    "loss_and_metrics = model.evaluate(X_test, y_test)"
   ]
  },
  {
   "cell_type": "code",
   "execution_count": 11,
   "metadata": {},
   "outputs": [
    {
     "data": {
      "text/plain": [
       "[1.8955708167284341e-06, 0.00053657915661611377]"
      ]
     },
     "execution_count": 11,
     "metadata": {},
     "output_type": "execute_result"
    }
   ],
   "source": [
    "loss_and_metrics"
   ]
  },
  {
   "cell_type": "code",
   "execution_count": 12,
   "metadata": {},
   "outputs": [
    {
     "data": {
      "text/plain": [
       "33401"
      ]
     },
     "execution_count": 12,
     "metadata": {},
     "output_type": "execute_result"
    }
   ],
   "source": [
    "model.count_params()"
   ]
  },
  {
   "cell_type": "code",
   "execution_count": 13,
   "metadata": {},
   "outputs": [
    {
     "data": {
      "text/plain": [
       "[<tf.Variable 'dense_1/kernel:0' shape=(12, 80) dtype=float32_ref>,\n",
       " <tf.Variable 'dense_1/bias:0' shape=(80,) dtype=float32_ref>,\n",
       " <tf.Variable 'dense_2/kernel:0' shape=(80, 200) dtype=float32_ref>,\n",
       " <tf.Variable 'dense_2/bias:0' shape=(200,) dtype=float32_ref>,\n",
       " <tf.Variable 'dense_3/kernel:0' shape=(200, 80) dtype=float32_ref>,\n",
       " <tf.Variable 'dense_3/bias:0' shape=(80,) dtype=float32_ref>,\n",
       " <tf.Variable 'dense_4/kernel:0' shape=(80, 1) dtype=float32_ref>,\n",
       " <tf.Variable 'dense_4/bias:0' shape=(1,) dtype=float32_ref>]"
      ]
     },
     "execution_count": 13,
     "metadata": {},
     "output_type": "execute_result"
    }
   ],
   "source": [
    "model.trainable_weights"
   ]
  },
  {
   "cell_type": "code",
   "execution_count": null,
   "metadata": {
    "collapsed": true
   },
   "outputs": [],
   "source": []
  }
 ],
 "metadata": {
  "kernelspec": {
   "display_name": "Python 2",
   "language": "python",
   "name": "python2"
  },
  "language_info": {
   "codemirror_mode": {
    "name": "ipython",
    "version": 2
   },
   "file_extension": ".py",
   "mimetype": "text/x-python",
   "name": "python",
   "nbconvert_exporter": "python",
   "pygments_lexer": "ipython2",
   "version": "2.7.13"
  }
 },
 "nbformat": 4,
 "nbformat_minor": 2
}
