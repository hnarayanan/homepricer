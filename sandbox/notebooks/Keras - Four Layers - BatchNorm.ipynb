{
 "cells": [
  {
   "cell_type": "code",
   "execution_count": 1,
   "metadata": {},
   "outputs": [
    {
     "name": "stderr",
     "output_type": "stream",
     "text": [
      "Using TensorFlow backend.\n"
     ]
    }
   ],
   "source": [
    "import numpy as np\n",
    "\n",
    "import pandas as pd\n",
    "\n",
    "from sklearn.preprocessing import MinMaxScaler\n",
    "from sklearn.model_selection import train_test_split\n",
    "\n",
    "from keras.models import Sequential\n",
    "from keras.layers import Dense, Activation, BatchNormalization\n",
    "from keras.callbacks import TensorBoard"
   ]
  },
  {
   "cell_type": "code",
   "execution_count": 2,
   "metadata": {
    "collapsed": true
   },
   "outputs": [],
   "source": [
    "raw_input = pd.read_csv('../../data/data-unnormalised.csv')\n",
    "raw_input.dropna(inplace=True)"
   ]
  },
  {
   "cell_type": "code",
   "execution_count": 3,
   "metadata": {
    "collapsed": true
   },
   "outputs": [],
   "source": [
    "scaler = MinMaxScaler()\n",
    "scaled_input = scaler.fit_transform(raw_input)"
   ]
  },
  {
   "cell_type": "code",
   "execution_count": 4,
   "metadata": {
    "collapsed": true
   },
   "outputs": [],
   "source": [
    "y = scaled_input[:, -1]\n",
    "y = np.expand_dims(y, axis=1)\n",
    "X = np.delete(scaled_input, -1, axis=1)"
   ]
  },
  {
   "cell_type": "code",
   "execution_count": 5,
   "metadata": {
    "collapsed": true
   },
   "outputs": [],
   "source": [
    "model = Sequential()\n",
    "model.add(Dense(units=40, input_dim=12, kernel_initializer='normal', activation='relu'))\n",
    "model.add(BatchNormalization())\n",
    "model.add(Dense(units=100, kernel_initializer='normal', activation='relu'))\n",
    "model.add(BatchNormalization())\n",
    "model.add(Dense(units=40, kernel_initializer='normal', activation='relu'))\n",
    "model.add(BatchNormalization())\n",
    "model.add(Dense(1, kernel_initializer='normal'))"
   ]
  },
  {
   "cell_type": "code",
   "execution_count": 6,
   "metadata": {},
   "outputs": [
    {
     "name": "stdout",
     "output_type": "stream",
     "text": [
      "9421\n"
     ]
    },
    {
     "data": {
      "text/plain": [
       "[<tf.Variable 'dense_1/kernel:0' shape=(12, 40) dtype=float32_ref>,\n",
       " <tf.Variable 'dense_1/bias:0' shape=(40,) dtype=float32_ref>,\n",
       " <tf.Variable 'batch_normalization_1/gamma:0' shape=(40,) dtype=float32_ref>,\n",
       " <tf.Variable 'batch_normalization_1/beta:0' shape=(40,) dtype=float32_ref>,\n",
       " <tf.Variable 'dense_2/kernel:0' shape=(40, 100) dtype=float32_ref>,\n",
       " <tf.Variable 'dense_2/bias:0' shape=(100,) dtype=float32_ref>,\n",
       " <tf.Variable 'batch_normalization_2/gamma:0' shape=(100,) dtype=float32_ref>,\n",
       " <tf.Variable 'batch_normalization_2/beta:0' shape=(100,) dtype=float32_ref>,\n",
       " <tf.Variable 'dense_3/kernel:0' shape=(100, 40) dtype=float32_ref>,\n",
       " <tf.Variable 'dense_3/bias:0' shape=(40,) dtype=float32_ref>,\n",
       " <tf.Variable 'batch_normalization_3/gamma:0' shape=(40,) dtype=float32_ref>,\n",
       " <tf.Variable 'batch_normalization_3/beta:0' shape=(40,) dtype=float32_ref>,\n",
       " <tf.Variable 'dense_4/kernel:0' shape=(40, 1) dtype=float32_ref>,\n",
       " <tf.Variable 'dense_4/bias:0' shape=(1,) dtype=float32_ref>]"
      ]
     },
     "execution_count": 6,
     "metadata": {},
     "output_type": "execute_result"
    }
   ],
   "source": [
    "print model.count_params()\n",
    "model.trainable_weights"
   ]
  },
  {
   "cell_type": "code",
   "execution_count": 7,
   "metadata": {
    "collapsed": true
   },
   "outputs": [],
   "source": [
    "model.compile(loss='mean_squared_error', optimizer='adam', metrics=['mae'])"
   ]
  },
  {
   "cell_type": "code",
   "execution_count": 8,
   "metadata": {
    "collapsed": true
   },
   "outputs": [],
   "source": [
    "X_train, X_test, y_train, y_test = train_test_split(X, y, test_size=0.25)"
   ]
  },
  {
   "cell_type": "code",
   "execution_count": 9,
   "metadata": {
    "collapsed": true
   },
   "outputs": [],
   "source": [
    "log = TensorBoard(log_dir='./logs/09-four-layer-batchnorm')"
   ]
  },
  {
   "cell_type": "code",
   "execution_count": 10,
   "metadata": {},
   "outputs": [
    {
     "name": "stdout",
     "output_type": "stream",
     "text": [
      "Epoch 1/10\n",
      "16378248/16378248 [==============================] - 212s - loss: 1.2699e-05 - mean_absolute_error: 0.0012   \n",
      "Epoch 2/10\n",
      "16378248/16378248 [==============================] - 209s - loss: 2.0434e-06 - mean_absolute_error: 6.7361e-04   \n",
      "Epoch 3/10\n",
      "16378248/16378248 [==============================] - 210s - loss: 1.9003e-06 - mean_absolute_error: 6.1374e-04   \n",
      "Epoch 4/10\n",
      "16378248/16378248 [==============================] - 212s - loss: 1.8475e-06 - mean_absolute_error: 5.8691e-04   \n",
      "Epoch 5/10\n",
      "16378248/16378248 [==============================] - 207s - loss: 1.8163e-06 - mean_absolute_error: 5.7558e-04   \n",
      "Epoch 6/10\n",
      "16378248/16378248 [==============================] - 235s - loss: 1.7866e-06 - mean_absolute_error: 5.6419e-04   \n",
      "Epoch 7/10\n",
      "16378248/16378248 [==============================] - 244s - loss: 1.7837e-06 - mean_absolute_error: 5.5836e-04   \n",
      "Epoch 8/10\n",
      "16378248/16378248 [==============================] - 216s - loss: 1.7386e-06 - mean_absolute_error: 5.4544e-04   \n",
      "Epoch 9/10\n",
      "16378248/16378248 [==============================] - 211s - loss: 1.7480e-06 - mean_absolute_error: 5.4578e-04   \n",
      "Epoch 10/10\n",
      "16378248/16378248 [==============================] - 215s - loss: 1.7477e-06 - mean_absolute_error: 5.4067e-04   \n"
     ]
    },
    {
     "data": {
      "text/plain": [
       "<keras.callbacks.History at 0x11a29dc10>"
      ]
     },
     "execution_count": 10,
     "metadata": {},
     "output_type": "execute_result"
    }
   ],
   "source": [
    "model.fit(X_train, y_train, epochs=10, batch_size=512, callbacks=[log])"
   ]
  },
  {
   "cell_type": "code",
   "execution_count": 11,
   "metadata": {},
   "outputs": [
    {
     "name": "stdout",
     "output_type": "stream",
     "text": [
      "5459296/5459417 [============================>.] - ETA: 0s"
     ]
    }
   ],
   "source": [
    "loss_and_metrics = model.evaluate(X_test, y_test)"
   ]
  },
  {
   "cell_type": "code",
   "execution_count": 12,
   "metadata": {},
   "outputs": [
    {
     "data": {
      "text/plain": [
       "[1.7069094127426041e-06, 0.00049734554604186694]"
      ]
     },
     "execution_count": 12,
     "metadata": {},
     "output_type": "execute_result"
    }
   ],
   "source": [
    "loss_and_metrics"
   ]
  }
 ],
 "metadata": {
  "kernelspec": {
   "display_name": "Python 2",
   "language": "python",
   "name": "python2"
  },
  "language_info": {
   "codemirror_mode": {
    "name": "ipython",
    "version": 2
   },
   "file_extension": ".py",
   "mimetype": "text/x-python",
   "name": "python",
   "nbconvert_exporter": "python",
   "pygments_lexer": "ipython2",
   "version": "2.7.13"
  }
 },
 "nbformat": 4,
 "nbformat_minor": 2
}
