{
 "cells": [
  {
   "cell_type": "code",
   "execution_count": 1,
   "metadata": {},
   "outputs": [
    {
     "name": "stderr",
     "output_type": "stream",
     "text": [
      "Using TensorFlow backend.\n"
     ]
    }
   ],
   "source": [
    "import numpy as np\n",
    "\n",
    "import pandas as pd\n",
    "\n",
    "from sklearn.preprocessing import MinMaxScaler\n",
    "from sklearn.model_selection import train_test_split\n",
    "\n",
    "from keras.models import Sequential\n",
    "from keras.layers import Dense, Activation\n",
    "from keras.callbacks import TensorBoard"
   ]
  },
  {
   "cell_type": "code",
   "execution_count": 2,
   "metadata": {
    "collapsed": true
   },
   "outputs": [],
   "source": [
    "raw_input = pd.read_csv('../../data/data-unnormalised.csv')\n",
    "raw_input.dropna(inplace=True)"
   ]
  },
  {
   "cell_type": "code",
   "execution_count": 3,
   "metadata": {
    "collapsed": true
   },
   "outputs": [],
   "source": [
    "scaler = MinMaxScaler()\n",
    "scaled_input = scaler.fit_transform(raw_input)"
   ]
  },
  {
   "cell_type": "code",
   "execution_count": 4,
   "metadata": {
    "collapsed": true
   },
   "outputs": [],
   "source": [
    "y = scaled_input[:, -1]\n",
    "y = np.expand_dims(y, axis=1)\n",
    "X = np.delete(scaled_input, -1, axis=1)"
   ]
  },
  {
   "cell_type": "code",
   "execution_count": 5,
   "metadata": {
    "collapsed": true
   },
   "outputs": [],
   "source": [
    "model = Sequential()\n",
    "model.add(Dense(units=80, input_dim=12, kernel_initializer='normal', activation='relu'))\n",
    "model.add(Dense(units=200, kernel_initializer='normal', activation='relu'))\n",
    "model.add(Dense(units=80, kernel_initializer='normal', activation='relu'))\n",
    "model.add(Dense(1, kernel_initializer='normal'))"
   ]
  },
  {
   "cell_type": "code",
   "execution_count": 6,
   "metadata": {
    "collapsed": true
   },
   "outputs": [],
   "source": [
    "model.compile(loss='mean_squared_error', optimizer='adam', metrics=['mae'])"
   ]
  },
  {
   "cell_type": "code",
   "execution_count": 7,
   "metadata": {
    "collapsed": true
   },
   "outputs": [],
   "source": [
    "X_train, X_test, y_train, y_test = train_test_split(X, y, test_size=0.25)"
   ]
  },
  {
   "cell_type": "code",
   "execution_count": 8,
   "metadata": {
    "collapsed": true
   },
   "outputs": [],
   "source": [
    "log = TensorBoard(log_dir='./logs/07-four-layer-wide-2')"
   ]
  },
  {
   "cell_type": "code",
   "execution_count": 9,
   "metadata": {},
   "outputs": [
    {
     "name": "stdout",
     "output_type": "stream",
     "text": [
      "Epoch 1/20\n",
      "16378248/16378248 [==============================] - 67s - loss: 2.0008e-06 - mean_absolute_error: 5.7030e-04    \n",
      "Epoch 2/20\n",
      "16378248/16378248 [==============================] - 67s - loss: 1.8416e-06 - mean_absolute_error: 5.3403e-04    \n",
      "Epoch 3/20\n",
      "16378248/16378248 [==============================] - 68s - loss: 1.8344e-06 - mean_absolute_error: 5.3216e-04    \n",
      "Epoch 4/20\n",
      "16378248/16378248 [==============================] - 68s - loss: 1.7806e-06 - mean_absolute_error: 5.2668e-04    \n",
      "Epoch 5/20\n",
      "16378248/16378248 [==============================] - 68s - loss: 1.7771e-06 - mean_absolute_error: 5.2983e-04    \n",
      "Epoch 6/20\n",
      "16378248/16378248 [==============================] - 66s - loss: 1.7416e-06 - mean_absolute_error: 5.2328e-04    \n",
      "Epoch 7/20\n",
      "16378248/16378248 [==============================] - 71s - loss: 1.7448e-06 - mean_absolute_error: 5.2750e-04    \n",
      "Epoch 8/20\n",
      "16378248/16378248 [==============================] - 68s - loss: 1.7341e-06 - mean_absolute_error: 5.2806e-04    \n",
      "Epoch 9/20\n",
      "16378248/16378248 [==============================] - 70s - loss: 1.8068e-06 - mean_absolute_error: 5.4052e-04    \n",
      "Epoch 10/20\n",
      "16378248/16378248 [==============================] - 65s - loss: 1.7406e-06 - mean_absolute_error: 5.2775e-04    \n",
      "Epoch 11/20\n",
      "16378248/16378248 [==============================] - 64s - loss: 1.7503e-06 - mean_absolute_error: 5.3386e-04    \n",
      "Epoch 12/20\n",
      "16378248/16378248 [==============================] - 64s - loss: 1.7307e-06 - mean_absolute_error: 5.3039e-04    \n",
      "Epoch 13/20\n",
      "16378248/16378248 [==============================] - 64s - loss: 1.8024e-06 - mean_absolute_error: 5.4749e-04    \n",
      "Epoch 14/20\n",
      "16378248/16378248 [==============================] - 64s - loss: 1.7000e-06 - mean_absolute_error: 5.3029e-04    \n",
      "Epoch 15/20\n",
      "16378248/16378248 [==============================] - 65s - loss: 1.7087e-06 - mean_absolute_error: 5.3343e-04    \n",
      "Epoch 16/20\n",
      "16378248/16378248 [==============================] - 65s - loss: 1.7128e-06 - mean_absolute_error: 5.3652e-04    \n",
      "Epoch 17/20\n",
      "16378248/16378248 [==============================] - 67s - loss: 1.7434e-06 - mean_absolute_error: 5.3731e-04    \n",
      "Epoch 18/20\n",
      "16378248/16378248 [==============================] - 64s - loss: 1.6661e-06 - mean_absolute_error: 5.2742e-04    \n",
      "Epoch 19/20\n",
      "16378248/16378248 [==============================] - 64s - loss: 1.7044e-06 - mean_absolute_error: 5.2875e-04    \n",
      "Epoch 20/20\n",
      "16378248/16378248 [==============================] - 64s - loss: 1.6805e-06 - mean_absolute_error: 5.2622e-04    \n"
     ]
    },
    {
     "data": {
      "text/plain": [
       "<keras.callbacks.History at 0x10d023910>"
      ]
     },
     "execution_count": 9,
     "metadata": {},
     "output_type": "execute_result"
    }
   ],
   "source": [
    "model.fit(X_train, y_train, epochs=20, batch_size=2048, callbacks=[log])"
   ]
  },
  {
   "cell_type": "code",
   "execution_count": 10,
   "metadata": {},
   "outputs": [
    {
     "name": "stdout",
     "output_type": "stream",
     "text": [
      "5456512/5459417 [============================>.] - ETA: 0s"
     ]
    }
   ],
   "source": [
    "loss_and_metrics = model.evaluate(X_test, y_test)"
   ]
  },
  {
   "cell_type": "code",
   "execution_count": 11,
   "metadata": {},
   "outputs": [
    {
     "data": {
      "text/plain": [
       "[1.7235768687949398e-06, 0.00051592235099246549]"
      ]
     },
     "execution_count": 11,
     "metadata": {},
     "output_type": "execute_result"
    }
   ],
   "source": [
    "loss_and_metrics"
   ]
  },
  {
   "cell_type": "code",
   "execution_count": 12,
   "metadata": {},
   "outputs": [
    {
     "data": {
      "text/plain": [
       "33401"
      ]
     },
     "execution_count": 12,
     "metadata": {},
     "output_type": "execute_result"
    }
   ],
   "source": [
    "model.count_params()"
   ]
  },
  {
   "cell_type": "code",
   "execution_count": 13,
   "metadata": {},
   "outputs": [
    {
     "data": {
      "text/plain": [
       "[<tf.Variable 'dense_1/kernel:0' shape=(12, 80) dtype=float32_ref>,\n",
       " <tf.Variable 'dense_1/bias:0' shape=(80,) dtype=float32_ref>,\n",
       " <tf.Variable 'dense_2/kernel:0' shape=(80, 200) dtype=float32_ref>,\n",
       " <tf.Variable 'dense_2/bias:0' shape=(200,) dtype=float32_ref>,\n",
       " <tf.Variable 'dense_3/kernel:0' shape=(200, 80) dtype=float32_ref>,\n",
       " <tf.Variable 'dense_3/bias:0' shape=(80,) dtype=float32_ref>,\n",
       " <tf.Variable 'dense_4/kernel:0' shape=(80, 1) dtype=float32_ref>,\n",
       " <tf.Variable 'dense_4/bias:0' shape=(1,) dtype=float32_ref>]"
      ]
     },
     "execution_count": 13,
     "metadata": {},
     "output_type": "execute_result"
    }
   ],
   "source": [
    "model.trainable_weights"
   ]
  },
  {
   "cell_type": "code",
   "execution_count": null,
   "metadata": {
    "collapsed": true
   },
   "outputs": [],
   "source": []
  }
 ],
 "metadata": {
  "kernelspec": {
   "display_name": "Python 2",
   "language": "python",
   "name": "python2"
  },
  "language_info": {
   "codemirror_mode": {
    "name": "ipython",
    "version": 2
   },
   "file_extension": ".py",
   "mimetype": "text/x-python",
   "name": "python",
   "nbconvert_exporter": "python",
   "pygments_lexer": "ipython2",
   "version": "2.7.13"
  }
 },
 "nbformat": 4,
 "nbformat_minor": 2
}
