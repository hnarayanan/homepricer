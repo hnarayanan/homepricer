{
 "cells": [
  {
   "cell_type": "markdown",
   "metadata": {},
   "source": [
    "# Load Input Data\n",
    "\n",
    "The data that we have on property prices is quite raw, and the numbers in particular are all over the place in terms of scale. To make it easier for the numerical methods in subsequent steps, we first normalise them to a reasonable range.\n",
    "\n",
    "Also, since addresses are hard to group by proximity, we replace them with geocodes."
   ]
  },
  {
   "cell_type": "markdown",
   "metadata": {},
   "source": [
    "We begin by importing required packages."
   ]
  },
  {
   "cell_type": "code",
   "execution_count": 1,
   "metadata": {
    "collapsed": true
   },
   "outputs": [],
   "source": [
    "import pandas as pd\n",
    "import datetime"
   ]
  },
  {
   "cell_type": "markdown",
   "metadata": {},
   "source": [
    "Then we load the input data."
   ]
  },
  {
   "cell_type": "code",
   "execution_count": 2,
   "metadata": {},
   "outputs": [
    {
     "name": "stderr",
     "output_type": "stream",
     "text": [
      "/Users/harish/Desktop/uk-property-prices/housing-data/venv/lib/python2.7/site-packages/IPython/core/interactiveshell.py:2717: DtypeWarning: Columns (30,35) have mixed types. Specify dtype option on import or set low_memory=False.\n",
      "  interactivity=interactivity, compiler=compiler, result=result)\n"
     ]
    }
   ],
   "source": [
    "postcode_locations = pd.read_csv('../data/NSPL_FEB_2017_UK.csv').set_index('pcds')"
   ]
  },
  {
   "cell_type": "code",
   "execution_count": 3,
   "metadata": {},
   "outputs": [],
   "source": [
    "property_transactions = pd.read_csv('../data/pp-complete.csv',\n",
    "                                        header=None,\n",
    "                                        names=[\n",
    "                                            'transaction_id',\n",
    "                                            'transaction_price',\n",
    "                                            'transaction_transfer_date',\n",
    "                                            'property_postcode',\n",
    "                                            'property_type',\n",
    "                                            'property_age',\n",
    "                                            'property_duration',\n",
    "                                            'property_paon',\n",
    "                                            'property_saon',\n",
    "                                            'property_street',\n",
    "                                            'property_locality',\n",
    "                                            'property_town_or_city',\n",
    "                                            'property_district',\n",
    "                                            'property_county',\n",
    "                                            'transaction_category',\n",
    "                                            '_record_type'\n",
    "                                        ]).fillna('')"
   ]
  },
  {
   "cell_type": "markdown",
   "metadata": {},
   "source": [
    "We immediately filter the transactions to only include those of type \"Standard Price Paid,\" which includes individual residential properties sold for full market value."
   ]
  },
  {
   "cell_type": "code",
   "execution_count": 4,
   "metadata": {},
   "outputs": [],
   "source": [
    "property_transactions = property_transactions.loc[property_transactions['transaction_category']=='A']"
   ]
  },
  {
   "cell_type": "code",
   "execution_count": 5,
   "metadata": {},
   "outputs": [
    {
     "data": {
      "text/plain": [
       "(21858755, 16)"
      ]
     },
     "execution_count": 5,
     "metadata": {},
     "output_type": "execute_result"
    }
   ],
   "source": [
    "property_transactions.shape"
   ]
  },
  {
   "cell_type": "markdown",
   "metadata": {},
   "source": [
    "Now we construct a new dataframe that contains all the necessary input (suitably normalised) from the original raw data.\n",
    "\n",
    "For this, we first define some helper functions."
   ]
  },
  {
   "cell_type": "code",
   "execution_count": 6,
   "metadata": {
    "collapsed": true
   },
   "outputs": [],
   "source": [
    "parse_date = lambda x: (datetime.datetime.strptime(x.replace(' 00:00', ''), '%Y-%m-%d').date() - datetime.date(1995, 01, 01)).days"
   ]
  },
  {
   "cell_type": "code",
   "execution_count": 7,
   "metadata": {
    "collapsed": true
   },
   "outputs": [],
   "source": [
    "def get_latitude(postcode):\n",
    "    try:\n",
    "        return postcode_locations['lat'][postcode]\n",
    "    except:\n",
    "        return None\n",
    "\n",
    "def get_longitude(postcode):\n",
    "    try:\n",
    "        return postcode_locations['long'][postcode]\n",
    "    except:\n",
    "        return None"
   ]
  },
  {
   "cell_type": "code",
   "execution_count": 8,
   "metadata": {},
   "outputs": [],
   "source": [
    "data = pd.DataFrame()\n",
    "\n",
    "data['transfer_date'] = property_transactions['transaction_transfer_date'].map(parse_date)\n",
    "data['latitude'] = property_transactions['property_postcode'].map(get_latitude)\n",
    "data['longitude'] = property_transactions['property_postcode'].map(get_longitude)\n",
    "data = pd.concat([data, pd.get_dummies(property_transactions['property_type'])], axis=1)\n",
    "data = pd.concat([data, pd.get_dummies(property_transactions['property_age'])], axis=1)\n",
    "data = pd.concat([data, pd.get_dummies(property_transactions['property_duration'])], axis=1)\n",
    "data['price'] = property_transactions['transaction_price']"
   ]
  },
  {
   "cell_type": "code",
   "execution_count": 9,
   "metadata": {},
   "outputs": [
    {
     "data": {
      "text/html": [
       "<div>\n",
       "<table border=\"1\" class=\"dataframe\">\n",
       "  <thead>\n",
       "    <tr style=\"text-align: right;\">\n",
       "      <th></th>\n",
       "      <th>transfer_date</th>\n",
       "      <th>latitude</th>\n",
       "      <th>longitude</th>\n",
       "      <th>D</th>\n",
       "      <th>F</th>\n",
       "      <th>S</th>\n",
       "      <th>T</th>\n",
       "      <th>N</th>\n",
       "      <th>Y</th>\n",
       "      <th>F</th>\n",
       "      <th>L</th>\n",
       "      <th>U</th>\n",
       "      <th>price</th>\n",
       "    </tr>\n",
       "  </thead>\n",
       "  <tbody>\n",
       "    <tr>\n",
       "      <th>count</th>\n",
       "      <td>2.185876e+07</td>\n",
       "      <td>2.183766e+07</td>\n",
       "      <td>2.183766e+07</td>\n",
       "      <td>2.185876e+07</td>\n",
       "      <td>2.185876e+07</td>\n",
       "      <td>2.185876e+07</td>\n",
       "      <td>2.185876e+07</td>\n",
       "      <td>2.185876e+07</td>\n",
       "      <td>2.185876e+07</td>\n",
       "      <td>2.185876e+07</td>\n",
       "      <td>2.185876e+07</td>\n",
       "      <td>2.185876e+07</td>\n",
       "      <td>2.185876e+07</td>\n",
       "    </tr>\n",
       "    <tr>\n",
       "      <th>mean</th>\n",
       "      <td>3.781426e+03</td>\n",
       "      <td>5.228254e+01</td>\n",
       "      <td>-1.273184e+00</td>\n",
       "      <td>2.320397e-01</td>\n",
       "      <td>1.807350e-01</td>\n",
       "      <td>2.786707e-01</td>\n",
       "      <td>3.085545e-01</td>\n",
       "      <td>8.981101e-01</td>\n",
       "      <td>1.018899e-01</td>\n",
       "      <td>7.655441e-01</td>\n",
       "      <td>2.344248e-01</td>\n",
       "      <td>3.110882e-05</td>\n",
       "      <td>1.709998e+05</td>\n",
       "    </tr>\n",
       "    <tr>\n",
       "      <th>std</th>\n",
       "      <td>2.233796e+03</td>\n",
       "      <td>1.128949e+00</td>\n",
       "      <td>1.309231e+00</td>\n",
       "      <td>4.221342e-01</td>\n",
       "      <td>3.847985e-01</td>\n",
       "      <td>4.483451e-01</td>\n",
       "      <td>4.618968e-01</td>\n",
       "      <td>3.025035e-01</td>\n",
       "      <td>3.025035e-01</td>\n",
       "      <td>4.236583e-01</td>\n",
       "      <td>4.236388e-01</td>\n",
       "      <td>5.577441e-03</td>\n",
       "      <td>2.017316e+05</td>\n",
       "    </tr>\n",
       "    <tr>\n",
       "      <th>min</th>\n",
       "      <td>0.000000e+00</td>\n",
       "      <td>4.989517e+01</td>\n",
       "      <td>-6.352647e+00</td>\n",
       "      <td>0.000000e+00</td>\n",
       "      <td>0.000000e+00</td>\n",
       "      <td>0.000000e+00</td>\n",
       "      <td>0.000000e+00</td>\n",
       "      <td>0.000000e+00</td>\n",
       "      <td>0.000000e+00</td>\n",
       "      <td>0.000000e+00</td>\n",
       "      <td>0.000000e+00</td>\n",
       "      <td>0.000000e+00</td>\n",
       "      <td>1.000000e+00</td>\n",
       "    </tr>\n",
       "    <tr>\n",
       "      <th>25%</th>\n",
       "      <td>1.955000e+03</td>\n",
       "      <td>5.144443e+01</td>\n",
       "      <td>-2.181589e+00</td>\n",
       "      <td>0.000000e+00</td>\n",
       "      <td>0.000000e+00</td>\n",
       "      <td>0.000000e+00</td>\n",
       "      <td>0.000000e+00</td>\n",
       "      <td>1.000000e+00</td>\n",
       "      <td>0.000000e+00</td>\n",
       "      <td>1.000000e+00</td>\n",
       "      <td>0.000000e+00</td>\n",
       "      <td>0.000000e+00</td>\n",
       "      <td>7.400000e+04</td>\n",
       "    </tr>\n",
       "    <tr>\n",
       "      <th>50%</th>\n",
       "      <td>3.517000e+03</td>\n",
       "      <td>5.194465e+01</td>\n",
       "      <td>-1.275947e+00</td>\n",
       "      <td>0.000000e+00</td>\n",
       "      <td>0.000000e+00</td>\n",
       "      <td>0.000000e+00</td>\n",
       "      <td>0.000000e+00</td>\n",
       "      <td>1.000000e+00</td>\n",
       "      <td>0.000000e+00</td>\n",
       "      <td>1.000000e+00</td>\n",
       "      <td>0.000000e+00</td>\n",
       "      <td>0.000000e+00</td>\n",
       "      <td>1.299500e+05</td>\n",
       "    </tr>\n",
       "    <tr>\n",
       "      <th>75%</th>\n",
       "      <td>5.556000e+03</td>\n",
       "      <td>5.328067e+01</td>\n",
       "      <td>-2.027250e-01</td>\n",
       "      <td>0.000000e+00</td>\n",
       "      <td>0.000000e+00</td>\n",
       "      <td>1.000000e+00</td>\n",
       "      <td>1.000000e+00</td>\n",
       "      <td>1.000000e+00</td>\n",
       "      <td>0.000000e+00</td>\n",
       "      <td>1.000000e+00</td>\n",
       "      <td>0.000000e+00</td>\n",
       "      <td>0.000000e+00</td>\n",
       "      <td>2.090000e+05</td>\n",
       "    </tr>\n",
       "    <tr>\n",
       "      <th>max</th>\n",
       "      <td>8.093000e+03</td>\n",
       "      <td>1.000000e+02</td>\n",
       "      <td>1.758397e+00</td>\n",
       "      <td>1.000000e+00</td>\n",
       "      <td>1.000000e+00</td>\n",
       "      <td>1.000000e+00</td>\n",
       "      <td>1.000000e+00</td>\n",
       "      <td>1.000000e+00</td>\n",
       "      <td>1.000000e+00</td>\n",
       "      <td>1.000000e+00</td>\n",
       "      <td>1.000000e+00</td>\n",
       "      <td>1.000000e+00</td>\n",
       "      <td>1.200000e+08</td>\n",
       "    </tr>\n",
       "  </tbody>\n",
       "</table>\n",
       "</div>"
      ],
      "text/plain": [
       "       transfer_date      latitude     longitude             D             F  \\\n",
       "count   2.185876e+07  2.183766e+07  2.183766e+07  2.185876e+07  2.185876e+07   \n",
       "mean    3.781426e+03  5.228254e+01 -1.273184e+00  2.320397e-01  1.807350e-01   \n",
       "std     2.233796e+03  1.128949e+00  1.309231e+00  4.221342e-01  3.847985e-01   \n",
       "min     0.000000e+00  4.989517e+01 -6.352647e+00  0.000000e+00  0.000000e+00   \n",
       "25%     1.955000e+03  5.144443e+01 -2.181589e+00  0.000000e+00  0.000000e+00   \n",
       "50%     3.517000e+03  5.194465e+01 -1.275947e+00  0.000000e+00  0.000000e+00   \n",
       "75%     5.556000e+03  5.328067e+01 -2.027250e-01  0.000000e+00  0.000000e+00   \n",
       "max     8.093000e+03  1.000000e+02  1.758397e+00  1.000000e+00  1.000000e+00   \n",
       "\n",
       "                  S             T             N             Y             F  \\\n",
       "count  2.185876e+07  2.185876e+07  2.185876e+07  2.185876e+07  2.185876e+07   \n",
       "mean   2.786707e-01  3.085545e-01  8.981101e-01  1.018899e-01  7.655441e-01   \n",
       "std    4.483451e-01  4.618968e-01  3.025035e-01  3.025035e-01  4.236583e-01   \n",
       "min    0.000000e+00  0.000000e+00  0.000000e+00  0.000000e+00  0.000000e+00   \n",
       "25%    0.000000e+00  0.000000e+00  1.000000e+00  0.000000e+00  1.000000e+00   \n",
       "50%    0.000000e+00  0.000000e+00  1.000000e+00  0.000000e+00  1.000000e+00   \n",
       "75%    1.000000e+00  1.000000e+00  1.000000e+00  0.000000e+00  1.000000e+00   \n",
       "max    1.000000e+00  1.000000e+00  1.000000e+00  1.000000e+00  1.000000e+00   \n",
       "\n",
       "                  L             U         price  \n",
       "count  2.185876e+07  2.185876e+07  2.185876e+07  \n",
       "mean   2.344248e-01  3.110882e-05  1.709998e+05  \n",
       "std    4.236388e-01  5.577441e-03  2.017316e+05  \n",
       "min    0.000000e+00  0.000000e+00  1.000000e+00  \n",
       "25%    0.000000e+00  0.000000e+00  7.400000e+04  \n",
       "50%    0.000000e+00  0.000000e+00  1.299500e+05  \n",
       "75%    0.000000e+00  0.000000e+00  2.090000e+05  \n",
       "max    1.000000e+00  1.000000e+00  1.200000e+08  "
      ]
     },
     "execution_count": 9,
     "metadata": {},
     "output_type": "execute_result"
    }
   ],
   "source": [
    "data.describe()"
   ]
  },
  {
   "cell_type": "code",
   "execution_count": 11,
   "metadata": {
    "collapsed": true
   },
   "outputs": [],
   "source": [
    "data.to_csv('../data/data-unnormalised.csv', index=False)"
   ]
  }
 ],
 "metadata": {
  "kernelspec": {
   "display_name": "Python 2",
   "language": "python",
   "name": "python2"
  },
  "language_info": {
   "codemirror_mode": {
    "name": "ipython",
    "version": 2
   },
   "file_extension": ".py",
   "mimetype": "text/x-python",
   "name": "python",
   "nbconvert_exporter": "python",
   "pygments_lexer": "ipython2",
   "version": "2.7.13"
  }
 },
 "nbformat": 4,
 "nbformat_minor": 2
}
